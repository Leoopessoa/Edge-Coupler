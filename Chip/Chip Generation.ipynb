{
 "cells": [
  {
   "cell_type": "code",
   "execution_count": 1,
   "metadata": {},
   "outputs": [
    {
     "name": "stderr",
     "output_type": "stream",
     "text": [
      "C:\\Users\\Leo\\AppData\\Local\\Temp\\ipykernel_26368\\517122788.py:6: DeprecationWarning: the imp module is deprecated in favour of importlib and slated for removal in Python 3.12; see the module's documentation for alternative uses\n",
      "  import imp\n"
     ]
    }
   ],
   "source": [
    "import os\n",
    "import matplotlib.pyplot as plt\n",
    "import numpy as np\n",
    "import math\n",
    "import pandas as pd\n",
    "import imp\n",
    "import sys\n",
    "import scipy\n",
    "import pickle as plk\n",
    "import importlib.util\n",
    "from numpy.lib.scimath import sqrt as csqrt\n",
    "from IPython.display import display, Math, clear_output\n",
    "from scipy.signal import find_peaks\n",
    "\n",
    "###############################################################\n",
    "#LINUX PATH\n",
    "\n",
    "# sys.path.append(\"/opt/lumerical/v231/api/python\") #Default linux lumapi path\n",
    "# import lumapi\n",
    "# sys.path.append(os.path.dirname('/media/leonardo/datam02/Edge-Coupler')) #Current directory\n",
    "\n",
    "###############################################################\n",
    "#WINDOWS PATH\n",
    "\n",
    "spec_win = importlib.util.spec_from_file_location('lumapi', 'C:\\\\Program Files\\\\Lumerical\\\\v202\\\\api\\\\python\\\\lumapi.py')\n",
    "lumapi = importlib.util.module_from_spec(spec_win)\n",
    "os.add_dll_directory(\"C:/Program Files/Lumerical/v202/api/python\")\n",
    "sys.path.append(os.path.dirname('C:/Users/Leo/Documents/Facul/Capacitacao/GitHub/EdgeCoupler'))\n",
    "spec_win.loader.exec_module(lumapi)\n",
    "\n",
    "\n",
    "def imbalance(n,p):\n",
    "    return 10*np.log10(p/n)\n",
    "\n",
    "def CMRR(n,p):\n",
    "    return 20*np.log10(abs((p-n)/(p+n)))\n",
    "\n",
    "def functionstapers(lenght, N, width, function): # Generate polygons with the given function\n",
    "    yinverse = np.flip(-function)\n",
    "    xinverse = np.linspace(lenght,0,N)\n",
    "    X = np.append(x,xinverse)\n",
    "    Y = np.append(function,yinverse)\n",
    "    vertices = np.column_stack((X,Y))\n",
    "    #lum.addpoly()\n",
    "    #lum.set('vertices',vertices)\n",
    "    return X, Y, xinverse, yinverse\n",
    "\n",
    "# Parameters and variables\n",
    "\n",
    "core = 'Si (Silicon) - Palik'\n",
    "substract = 'SiO2 (Glass) - Palik'\n",
    "\n",
    "height = 0.34e-6\n",
    "finalwidth = 0.55e-6\n",
    "\n",
    "Cband = np.linspace(1.530e-6, 1.565e-6, 2000)\n",
    "band = np.linspace(1500e-9, 1600e-9, 2000)\n",
    "c0 = 299792458\n",
    "\n",
    "width = 0.04e-6\n",
    "length = 200e-6\n",
    "N = 100\n"
   ]
  },
  {
   "cell_type": "code",
   "execution_count": 2,
   "metadata": {},
   "outputs": [],
   "source": [
    "lum = lumapi.MODE() "
   ]
  },
  {
   "cell_type": "code",
   "execution_count": 4,
   "metadata": {},
   "outputs": [],
   "source": [
    "f=lum.gdsopen('../Chip/edgecoupler.gds')\n",
    "lum.gdsbegincell(f,'LinearTE')\n",
    "\n",
    "width = 0.08e-6\n",
    "x = np.linspace(0,length,N)\n",
    "m = (width-finalwidth)/(length-0)/2\n",
    "function = m*x + finalwidth/2\n",
    "inversefunction = function[::-1]\n",
    "X, Y, xinverse, yinverse = functionstapers(length, N, width, function)\n",
    "\n",
    "# positivepoints = np.zeros(len(X))\n",
    "# negativepoints = np.zeros(len(X))\n",
    "# points = [[]]\n",
    "\n",
    "# for i in range(len(X)):\n",
    "#     positivepoints[i] = [X[i],Y[i]]\n",
    "#     negativepoints[i] = [xinverse[i], yinverse[i]]\n",
    "#     np.append(points, positivepoints[i])\n",
    "#     np.append(points, negativepoints[i])\n",
    "\n",
    "\n",
    "#lum.gdsaddrect(f,1,1,1,1,1)"
   ]
  }
 ],
 "metadata": {
  "kernelspec": {
   "display_name": "Python 3",
   "language": "python",
   "name": "python3"
  },
  "language_info": {
   "codemirror_mode": {
    "name": "ipython",
    "version": 3
   },
   "file_extension": ".py",
   "mimetype": "text/x-python",
   "name": "python",
   "nbconvert_exporter": "python",
   "pygments_lexer": "ipython3",
   "version": "3.10.11"
  },
  "orig_nbformat": 4
 },
 "nbformat": 4,
 "nbformat_minor": 2
}

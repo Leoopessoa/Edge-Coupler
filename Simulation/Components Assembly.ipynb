{
 "cells": [
  {
   "cell_type": "code",
   "execution_count": 1,
   "metadata": {},
   "outputs": [
    {
     "name": "stderr",
     "output_type": "stream",
     "text": [
      "C:\\Users\\Leo\\AppData\\Local\\Temp\\ipykernel_2752\\3321588445.py:6: DeprecationWarning: the imp module is deprecated in favour of importlib and slated for removal in Python 3.12; see the module's documentation for alternative uses\n",
      "  import imp\n"
     ]
    }
   ],
   "source": [
    "import os\n",
    "import matplotlib.pyplot as plt\n",
    "import numpy as np\n",
    "import math\n",
    "import pandas as pd\n",
    "import imp\n",
    "import sys\n",
    "import scipy\n",
    "import pickle as plk\n",
    "import importlib.util\n",
    "from numpy.lib.scimath import sqrt as csqrt\n",
    "from IPython.display import display, Math, clear_output\n",
    "from scipy.signal import find_peaks\n",
    "\n",
    "###############################################################\n",
    "#LINUX PATH\n",
    "\n",
    "# sys.path.append(\"/opt/lumerical/v221/api/python\") #Default linux lumapi path\n",
    "# import lumapi\n",
    "# sys.path.append(os.path.dirname('/media/leonardo/datam02/Ring Resonator - Leonardo Pessôa/Ring-Resonator/Tutorial/')) #Current directory\n",
    "\n",
    "###############################################################\n",
    "#WINDOWS PATH\n",
    "\n",
    "spec_win = importlib.util.spec_from_file_location('lumapi', 'C:\\\\Program Files\\\\Lumerical\\\\v202\\\\api\\\\python\\\\lumapi.py')\n",
    "lumapi = importlib.util.module_from_spec(spec_win)\n",
    "os.add_dll_directory(\"C:/Program Files/Lumerical/v202/api/python\")\n",
    "sys.path.append(os.path.dirname('C:/Users/Leo/Documents/Facul/Capacitação/GitHub/90--optical-hybrid'))\n",
    "spec_win.loader.exec_module(lumapi)\n",
    "\n",
    "\n",
    "def imbalance(n,p):\n",
    "    return 10*np.log10(p/n)\n",
    "\n",
    "def CMRR(n,p):\n",
    "    return 20*np.log10(abs((p-n)/(p+n)))\n",
    "\n",
    "def functionstapers(lenght, N, width, function): # Generate polygons with the given function\n",
    "    yinvertido = np.flip(-function)\n",
    "    xinvertido = np.linspace(lenght,0,N)\n",
    "    X = np.append(x,xinvertido)\n",
    "    Y = np.append(function,yinvertido)\n",
    "    vertices = np.column_stack((X,Y))\n",
    "    lum.addpoly()\n",
    "    lum.set('vertices',vertices)\n",
    "    return X, Y, xinvertido, yinvertido\n",
    "\n",
    "# Parameters and variables\n",
    "\n",
    "core = 'Si (Silicon) - Palik'\n",
    "substract = 'SiO2 (Glass) - Palik'\n",
    "\n",
    "height = 0.34e-6\n",
    "burriedlayer = 2e-6\n",
    "finalwidth = 0.55e-6\n",
    "\n",
    "Cband = np.linspace(1.530e-6, 1.565e-6, 2000)\n",
    "band = np.linspace(1500e-9, 1600e-9, 2000)\n",
    "c0 = 299792458"
   ]
  },
  {
   "attachments": {},
   "cell_type": "markdown",
   "metadata": {},
   "source": [
    "# Linear"
   ]
  },
  {
   "cell_type": "code",
   "execution_count": 13,
   "metadata": {},
   "outputs": [],
   "source": [
    "lum = lumapi.FDTD(filename='../CML/Linear.fsp')"
   ]
  },
  {
   "cell_type": "code",
   "execution_count": 19,
   "metadata": {},
   "outputs": [],
   "source": [
    "# Core and substract generation\n",
    "\n",
    "# Using 0.04μm width and 200μm lenght\n",
    "lum.select('core')\n",
    "lum.delete()\n",
    "lum.select('substract')\n",
    "lum.delete()\n",
    "\n",
    "width = 0.04e-6\n",
    "lenght = 200e-6\n",
    "N = 2000\n",
    "\n",
    "x = np.linspace(0,lenght,N)\n",
    "m = (width-finalwidth)/(lenght-0)/2\n",
    "function = m*x + finalwidth/2\n",
    "inversefunction = function[::-1]\n",
    "\n",
    "functionstapers(lenght, N, width, inversefunction)\n",
    "lum.set({\n",
    "    'z min'    : 0,\n",
    "    'z max'    : height,\n",
    "    'x'        : 0,\n",
    "    'y'        : 0,\n",
    "    'material' : core,\n",
    "    'name'     : 'core',\n",
    "})\n",
    "lum.addrect()\n",
    "lum.set({\n",
    "    'x min'    : lenght,\n",
    "    'x max'    : lenght+10e-6,\n",
    "    'y'        : 0,\n",
    "    'y span'   : finalwidth,\n",
    "    'z max'    : height,\n",
    "    'z min'    : 0,\n",
    "    'name'     : 'extension',\n",
    "    'material' : core,\n",
    "})\n",
    "\n",
    "lum.addrect()\n",
    "lum.set({\n",
    "    'z'        : 0,\n",
    "    'z span'   : 2*burriedlayer,\n",
    "    'x min'    : 0,\n",
    "    'x max'    : lenght+10e-6,\n",
    "    'y'        : 0,\n",
    "    'y span'   : 3*burriedlayer,\n",
    "    'material' : substract,\n",
    "    'name'     : 'substract',\n",
    "})\n"
   ]
  },
  {
   "cell_type": "code",
   "execution_count": 26,
   "metadata": {},
   "outputs": [],
   "source": [
    "# Simulation Settings\n",
    "\n",
    "#time = (lenght)/c0*3.5\n",
    "#print(time)\n",
    "time = 2.35e-12\n",
    "\n",
    "span = 5e-6\n",
    "\n",
    "lum.select('field')\n",
    "lum.delete()\n",
    "lum.select('FDTD')\n",
    "lum.delete()\n",
    "lum.select('port')\n",
    "lum.delete()\n",
    "lum.select('output')\n",
    "lum.delete()\n",
    "\n",
    "lum.addpower()\n",
    "lum.set({\n",
    "    'z'                : height/2,\n",
    "    'x'                : lenght/2,\n",
    "    'x span'           : lenght + 5e-6,\n",
    "    'y'                : 0,\n",
    "    'y span'           : span,\n",
    "    'name'             : 'field',\n",
    "})\n",
    "\n",
    "lum.addpower()\n",
    "lum.set('monitor type', '2D X-normal')\n",
    "lum.set({\n",
    "    'z'                : height/2,\n",
    "    'z span'           : span,\n",
    "    'x'                : lenght + 2e-6,\n",
    "    'y'                : 0,\n",
    "    'y span'           : span,\n",
    "    'name'             : 'output',\n",
    "})\n",
    "\n",
    "lum.addmode()\n",
    "lum.set({\n",
    "    'x'                : -2.5e-6,\n",
    "    'y'                : 0,\n",
    "    'y span'           : span,\n",
    "    'z'                : height/2,\n",
    "    'z span'           : span,\n",
    "    'name'             : 'port',\n",
    "    'wavelength start' : 1.5e-6,\n",
    "    'wavelength stop'  : 1.6e-6\n",
    "})\n",
    "\n",
    "lum.addfdtd()\n",
    "lum.set({\n",
    "    'z'     : height/2,\n",
    "    'z span': span,\n",
    "    'x'     : lenght/2,\n",
    "    'x span': lenght+5e-6,\n",
    "    'y'     : 0,\n",
    "    'y span': span,\n",
    "    'mesh accuracy'  : 2,\n",
    "    'y min bc' : 'Anti-Symmetric',\n",
    "    'simulation time' : time\n",
    "})"
   ]
  },
  {
   "attachments": {},
   "cell_type": "markdown",
   "metadata": {},
   "source": [
    "# Exponential"
   ]
  },
  {
   "cell_type": "code",
   "execution_count": null,
   "metadata": {},
   "outputs": [],
   "source": [
    "mode = lumapi.MODE(filename='../CML/Exponential.lms')"
   ]
  },
  {
   "cell_type": "code",
   "execution_count": null,
   "metadata": {},
   "outputs": [
    {
     "data": {
      "text/plain": [
       "[<matplotlib.lines.Line2D at 0x157b2b21840>]"
      ]
     },
     "execution_count": 5,
     "metadata": {},
     "output_type": "execute_result"
    },
    {
     "data": {
      "image/png": "[encoded data removed]",
      "text/plain": [
       "<Figure size 640x480 with 1 Axes>"
      ]
     },
     "metadata": {},
     "output_type": "display_data"
    }
   ],
   "source": [
    "# Using 0.04μm width and 200μm lenght\n",
    "mode.deleteall()\n",
    "\n",
    "width = 0.04e-6\n",
    "lenght = 5e-6\n",
    "N = 2000\n",
    "\n",
    "x = np.linspace(0,lenght,N)\n",
    "z = (x-x[0])/(x[int(N/2-1)]-x[0])/2\n",
    "function = ((np.exp(z) - 1)/(np.exp(1) - 1)*1e-6)/4 + width/2\n",
    "inversefunction = np.flip(function)\n",
    "\n",
    "X, Y, xinvertido, yinvertido = functionstapers(lenght, N, width, function)\n",
    "mode.set({\n",
    "    'z min'    : 0,\n",
    "    'z max'    : height,\n",
    "    'x'        : 0,\n",
    "    'y'        : 0,\n",
    "    'material' : core,\n",
    "    'name'     : 'core',\n",
    "})\n"
   ]
  },
  {
   "attachments": {},
   "cell_type": "markdown",
   "metadata": {},
   "source": [
    "# Quadratic"
   ]
  },
  {
   "cell_type": "code",
   "execution_count": null,
   "metadata": {},
   "outputs": [],
   "source": [
    "mode = lumapi.MODE(filename='../CML/Quadratic.lms')"
   ]
  },
  {
   "cell_type": "code",
   "execution_count": 7,
   "metadata": {},
   "outputs": [
    {
     "ename": "NameError",
     "evalue": "name 'fdtd' is not defined",
     "output_type": "error",
     "traceback": [
      "\u001b[1;31m---------------------------------------------------------------------------\u001b[0m",
      "\u001b[1;31mNameError\u001b[0m                                 Traceback (most recent call last)",
      "Cell \u001b[1;32mIn [7], line 2\u001b[0m\n\u001b[0;32m      1\u001b[0m \u001b[39m# Using 0.04μm width and 200μm lenght\u001b[39;00m\n\u001b[1;32m----> 2\u001b[0m fdtd\u001b[39m.\u001b[39mdeleteall()\n\u001b[0;32m      4\u001b[0m width \u001b[39m=\u001b[39m \u001b[39m0.04e-6\u001b[39m\n\u001b[0;32m      5\u001b[0m lenght \u001b[39m=\u001b[39m \u001b[39m5e-6\u001b[39m\n",
      "\u001b[1;31mNameError\u001b[0m: name 'fdtd' is not defined"
     ]
    }
   ],
   "source": [
    "# Using 0.04μm width and 200μm lenght\n",
    "fdtd.deleteall()\n",
    "\n",
    "width = 0.04e-6\n",
    "lenght = 5e-6\n",
    "N = 2000\n",
    "\n",
    "x = np.linspace(0,lenght,N)\n",
    "z = (x-x[0])/(x[int(N/2-1)]-x[0])/2\n",
    "function = (z**2/4)*1e-6 + width/2\n",
    "inversefunction = np.flip(function)\n",
    "\n",
    "X, Y, xinvertido, yinvertido = functionstapers(lenght, N, width, function)\n",
    "\n",
    "fdtd.set({\n",
    "    'z min'    : 0,\n",
    "    'z max'    : height,\n",
    "    'x'        : 0,\n",
    "    'y'        : 0,\n",
    "    'material' : core,\n",
    "    'name'     : 'core',\n",
    "})\n"
   ]
  }
 ],
 "metadata": {
  "kernelspec": {
   "display_name": "Python 3",
   "language": "python",
   "name": "python3"
  },
  "language_info": {
   "codemirror_mode": {
    "name": "ipython",
    "version": 3
   },
   "file_extension": ".py",
   "mimetype": "text/x-python",
   "name": "python",
   "nbconvert_exporter": "python",
   "pygments_lexer": "ipython3",
   "version": "3.10.10"
  },
  "orig_nbformat": 4,
  "vscode": {
   "interpreter": {
    "hash": "47e86e659cc4c7e7c8281f4dfa198d26eba569ed7d4f5779d5419dff2bd0d92c"
   }
  }
 },
 "nbformat": 4,
 "nbformat_minor": 2
}
